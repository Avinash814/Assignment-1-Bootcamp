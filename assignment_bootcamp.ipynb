{
 "cells": [
  {
   "cell_type": "markdown",
   "id": "c9e9cdde-3c13-466b-906a-97727778c6ad",
   "metadata": {},
   "source": [
    "###  Q1. Write a Python program that performs matrix operations (addition, subtraction, multiplication) using nested loops and functions. The program should handle various matrix input errors such as dimension mismatches, non-numeric entries, or empty matrices, using exception handling and logging.\r\n"
   ]
  },
  {
   "cell_type": "code",
   "execution_count": 6,
   "id": "736f4687-2d2a-4628-b791-258cd986ba02",
   "metadata": {},
   "outputs": [
    {
     "name": "stdout",
     "output_type": "stream",
     "text": [
      "Matrix A:\n"
     ]
    },
    {
     "name": "stdin",
     "output_type": "stream",
     "text": [
      "Enter the number of rows for matrix A:  2\n",
      "Enter the number of columns for matrix A:  2\n"
     ]
    },
    {
     "name": "stdout",
     "output_type": "stream",
     "text": [
      "Enter the entries for matrix A row by row :\n"
     ]
    },
    {
     "name": "stdin",
     "output_type": "stream",
     "text": [
      "Row 1:  1 2\n",
      "Row 2:  3 4\n"
     ]
    },
    {
     "name": "stdout",
     "output_type": "stream",
     "text": [
      "Matrix B:\n"
     ]
    },
    {
     "name": "stdin",
     "output_type": "stream",
     "text": [
      "Enter the number of rows for matrix B:  2\n",
      "Enter the number of columns for matrix B:  2\n"
     ]
    },
    {
     "name": "stdout",
     "output_type": "stream",
     "text": [
      "Enter the entries for matrix B row by row :\n"
     ]
    },
    {
     "name": "stdin",
     "output_type": "stream",
     "text": [
      "Row 1:  5 6\n",
      "Row 2:  7 8\n"
     ]
    },
    {
     "name": "stdout",
     "output_type": "stream",
     "text": [
      "\n",
      "Performing Addition:\n",
      "[6.0, 8.0]\n",
      "[10.0, 12.0]\n",
      "\n",
      "Performing Subtraction:\n",
      "[-4.0, -4.0]\n",
      "[-4.0, -4.0]\n",
      "\n",
      "Performing Multiplication:\n",
      "[19.0, 22.0]\n",
      "[43.0, 50.0]\n"
     ]
    }
   ],
   "source": [
    "import logging\n",
    "\n",
    "logging.basicConfig(level=logging.ERROR, format='%(asctime)s - %(levelname)s - %(message)s')\n",
    "\n",
    "def validate_matrix(A, B=None, operation=\"add/subtract\"):\n",
    "    \"\"\"Validate matrices and check for dimension compatibility.\"\"\"\n",
    "    if not A or not all(isinstance(row, list) and row for row in A):\n",
    "        raise ValueError(\"Matrix A is empty or invalid.\")\n",
    "    if B:\n",
    "        if operation in (\"add/subtract\") and (len(A) != len(B) or len(A[0]) != len(B[0])):\n",
    "            raise ValueError(f\"Matrices must have the same dimensions for {operation}.\")\n",
    "        if operation == \"multiply\" and len(A[0]) != len(B):\n",
    "            raise ValueError(\"Number of columns in A must equal number of rows in B for multiplication.\")\n",
    "    if not all(isinstance(e, (int, float)) for row in A for e in row):\n",
    "        raise ValueError(\"Matrices must contain only numeric entries.\")\n",
    "\n",
    "def matrix_operation(A, B, op):\n",
    "    \"\"\"Perform addition, subtraction, or multiplication of matrices.\"\"\"\n",
    "    validate_matrix(A, B, \"multiply\" if op == \"*\" else \"add/subtract\")\n",
    "    return [[sum(A[i][k] * B[k][j] for k in range(len(B))) if op == \"*\" else (A[i][j] + B[i][j] if op == \"+\" else A[i][j] - B[i][j])\n",
    "            for j in range(len(B[0]))] for i in range(len(A))]\n",
    "\n",
    "def get_matrix_input(name):\n",
    "    \"\"\"Get matrix input from the user.\"\"\"\n",
    "    rows = int(input(f\"Enter the number of rows for matrix {name}: \"))\n",
    "    cols = int(input(f\"Enter the number of columns for matrix {name}: \"))\n",
    "    \n",
    "    matrix = []\n",
    "    print(f\"Enter the entries for matrix {name} row by row :\")\n",
    "    for i in range(rows):\n",
    "        row = list(map(float, input(f\"Row {i+1}: \").split()))\n",
    "        if len(row) != cols:\n",
    "            raise ValueError(f\"Matrix {name} should have {cols} columns.\")\n",
    "        matrix.append(row)\n",
    "    \n",
    "    return matrix\n",
    "\n",
    "def main():\n",
    "    try:\n",
    "        print(\"Matrix A:\")\n",
    "        A = get_matrix_input(\"A\")\n",
    "        print(\"Matrix B:\")\n",
    "        B = get_matrix_input(\"B\")\n",
    "\n",
    "        # Perform all three operations\n",
    "        print(\"\\nPerforming Addition:\")\n",
    "        try:\n",
    "            result_add = matrix_operation(A, B, \"+\")\n",
    "            for row in result_add:\n",
    "                print(row)\n",
    "        except Exception as e:\n",
    "            print(f\"Addition Error: {e}\")\n",
    "\n",
    "        print(\"\\nPerforming Subtraction:\")\n",
    "        try:\n",
    "            result_sub = matrix_operation(A, B, \"-\")\n",
    "            for row in result_sub:\n",
    "                print(row)\n",
    "        except Exception as e:\n",
    "            print(f\"Subtraction Error: {e}\")\n",
    "\n",
    "        print(\"\\nPerforming Multiplication:\")\n",
    "        try:\n",
    "            result_mul = matrix_operation(A, B, \"*\")\n",
    "            for row in result_mul:\n",
    "                print(row)\n",
    "        except Exception as e:\n",
    "            print(f\"Multiplication Error: {e}\")\n",
    "    \n",
    "    except Exception as e:\n",
    "        logging.error(e)\n",
    "        print(f\"Error: {e}\")\n",
    "\n",
    "if __name__ == \"__main__\":\n",
    "    main()\n"
   ]
  },
  {
   "cell_type": "markdown",
   "id": "a0405ce3-9c81-4ccc-a04b-cdc2ef5bc207",
   "metadata": {},
   "source": [
    "### Q2. Write a Python program that reads a file with complex structured data, processes each line using a loop, and logs any formatting errors or exceptions encountered. The function should handle cases like missing values or incorrect data formats, and log errors for review."
   ]
  },
  {
   "cell_type": "code",
   "execution_count": 4,
   "id": "1c1a0ee8-d5a6-4f10-bbd6-3f059a74c9a9",
   "metadata": {},
   "outputs": [
    {
     "name": "stdout",
     "output_type": "stream",
     "text": [
      "Processing line 1: Data mining functionalities are typically classified into two categories: Descriptive and Predictive. 1. Descriptive Data Mining: Clustering: The process of grouping a set of objects into classes of similar objects. Clustering is unsupervised learning because the algorithm only looks at the input data and attempts to find natural groupings or clusters./ Association Rule Learning: It is used to discover interesting relations between variables in large datasets. It identifies if-then statements or association rules that highlight how often items occur together in a dataset./ Sequence Mining: It is the process of discovering sequences that occur frequently across ordered data points.\n"
     ]
    }
   ],
   "source": [
    "import logging\n",
    "\n",
    "\n",
    "logging.basicConfig(filename='data_processing.log', level=logging.ERROR, \n",
    "                    format='%(asctime)s - %(levelname)s - %(message)s')\n",
    "\n",
    "def process_line(line):\n",
    "    \"\"\"Process each line of the file.\"\"\"\n",
    "    try:\n",
    "       \n",
    "        data = line.strip().split(',')\n",
    "\n",
    "        \n",
    "        if len(data) < 3 or any(not item.strip() for item in data):\n",
    "            raise ValueError(\"Missing values in line\")\n",
    "\n",
    "       \n",
    "        ID = int(data[0])  \n",
    "        name = data[1].strip()  \n",
    "        age = int(data[2])  \n",
    "\n",
    "        \n",
    "        print(f\"Processed: ID={ID}, Name={name}, Age={age}\")\n",
    "\n",
    "    except ValueError as ve:\n",
    "        logging.error(f\"ValueError encountered: {ve} in line: {line.strip()}\")\n",
    "    except IndexError as ie:\n",
    "        logging.error(f\"IndexError encountered (likely missing fields): {ie} in line: {line.strip()}\")\n",
    "    except Exception as e:\n",
    "        logging.error(f\"Unexpected error: {e} in line: {line.strip()}\")\n",
    "\n",
    "\n",
    "def process_file(file_name):\n",
    "    \"\"\"Read the file and process each line.\"\"\"\n",
    "    try:\n",
    "        with open(file_name, 'r') as file:\n",
    "            for line_number, line in enumerate(file, 1):\n",
    "                if line.strip():  # Skip empty lines\n",
    "                    print(f\"Processing line {line_number}: {line.strip()}\")\n",
    "                    process_line(line)\n",
    "    except FileNotFoundError as fnf_error:\n",
    "        logging.error(f\"File not found: {fnf_error}\")\n",
    "    except Exception as e:\n",
    "        logging.error(f\"Error reading file: {e}\")\n",
    "\n",
    "\n",
    "if __name__ == \"__main__\":\n",
    "\n",
    "    process_file(\"C:\\\\Users\\\\avina\\\\Downloads\\\\data.txt\")\n"
   ]
  },
  {
   "cell_type": "markdown",
   "id": "008c3140-adc0-4eb6-ab55-60f0b634d87c",
   "metadata": {},
   "source": [
    "### Q3. Create a Python program that uses a recursive function to calculate the total size of all files in a directory, including subdirectories. Use loops for directory traversal, logging for each step of the process, and exception handling to deal with permission issues or missing directories."
   ]
  },
  {
   "cell_type": "code",
   "execution_count": 3,
   "id": "84d7a670-89e3-4538-9a9f-971d5f60e1c0",
   "metadata": {},
   "outputs": [
    {
     "name": "stdin",
     "output_type": "stream",
     "text": [
      "Enter the directory path:  C:\\Users\\avina\\PycharmProjects\n"
     ]
    },
    {
     "name": "stdout",
     "output_type": "stream",
     "text": [
      "Total size of all files in 'C:\\Users\\avina\\PycharmProjects': 27660909 bytes\n"
     ]
    }
   ],
   "source": [
    "import os\n",
    "import logging\n",
    "\n",
    "\n",
    "logging.basicConfig(filename='directory_size.log', level=logging.INFO,\n",
    "                    format='%(asctime)s - %(levelname)s - %(message)s')\n",
    "\n",
    "def get_directory_size(directory):\n",
    "    \"\"\"Recursively calculate the total size of all files in the given directory.\"\"\"\n",
    "    total_size = 0\n",
    "    try:\n",
    "        for entry in os.scandir(directory):\n",
    "            if entry.is_dir():\n",
    "                \n",
    "                logging.info(f\"Entering directory: {entry.path}\")\n",
    "                total_size += get_directory_size(entry.path)\n",
    "            elif entry.is_file():\n",
    "                \n",
    "                logging.info(f\"Adding file size: {entry.path} ({entry.stat().st_size} bytes)\")\n",
    "                total_size += entry.stat().st_size\n",
    "    except PermissionError:\n",
    "        logging.warning(f\"Permission denied: {directory}\")\n",
    "    except FileNotFoundError:\n",
    "        logging.error(f\"Directory not found: {directory}\")\n",
    "    except Exception as e:\n",
    "        logging.error(f\"Error processing {directory}: {e}\")\n",
    "\n",
    "    return total_size\n",
    "\n",
    "def main():\n",
    "    directory = input(\"Enter the directory path: \")\n",
    "    total_size = get_directory_size(directory)\n",
    "    print(f\"Total size of all files in '{directory}': {total_size} bytes\")\n",
    "\n",
    "if __name__ == \"__main__\":\n",
    "    main()\n"
   ]
  },
  {
   "cell_type": "code",
   "execution_count": null,
   "id": "a29fcb82-e653-469f-841e-a1442940f281",
   "metadata": {},
   "outputs": [],
   "source": []
  }
 ],
 "metadata": {
  "kernelspec": {
   "display_name": "Python 3 (ipykernel)",
   "language": "python",
   "name": "python3"
  },
  "language_info": {
   "codemirror_mode": {
    "name": "ipython",
    "version": 3
   },
   "file_extension": ".py",
   "mimetype": "text/x-python",
   "name": "python",
   "nbconvert_exporter": "python",
   "pygments_lexer": "ipython3",
   "version": "3.9.18"
  }
 },
 "nbformat": 4,
 "nbformat_minor": 5
}
